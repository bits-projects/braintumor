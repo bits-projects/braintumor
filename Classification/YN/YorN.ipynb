{
 "cells": [
  {
   "cell_type": "code",
   "execution_count": 25,
   "id": "1d0622fb",
   "metadata": {},
   "outputs": [],
   "source": [
    "import os\n",
    "import tensorflow as tf\n",
    "import numpy as np\n",
    "import tensorflow.keras as keras"
   ]
  },
  {
   "cell_type": "code",
   "execution_count": 44,
   "id": "df3924b1",
   "metadata": {},
   "outputs": [],
   "source": [
    "from keras.callbacks import EarlyStopping,ModelCheckpoint\n",
    "from keras.applications.vgg16 import VGG16,preprocess_input, decode_predictions\n",
    "from keras.preprocessing.image import ImageDataGenerator\n",
    "from keras.layers import Dense,Conv2D,MaxPooling2D,BatchNormalization,Flatten,Dropout\n",
    "from tensorflow.keras.preprocessing import image"
   ]
  },
  {
   "cell_type": "code",
   "execution_count": 3,
   "id": "3af733c3",
   "metadata": {},
   "outputs": [],
   "source": [
    "input_path=r'\\Users\\vasan\\Documents\\BrainTumour\\YorN\\archive\\brain_tumor_dataset'\n",
    "paths=[]\n",
    "for file in os.listdir(input_path):\n",
    "    path_str=input_path+\"\\\\\"+file\n",
    "    paths.append(str(path_str))"
   ]
  },
  {
   "cell_type": "code",
   "execution_count": 4,
   "id": "6d4e6671",
   "metadata": {},
   "outputs": [
    {
     "name": "stdout",
     "output_type": "stream",
     "text": [
      "\\Users\\vasan\\Documents\\BrainTumour\\YorN\\archive\\brain_tumor_dataset\\test\n",
      "\\Users\\vasan\\Documents\\BrainTumour\\YorN\\archive\\brain_tumor_dataset\\train\n",
      "\\Users\\vasan\\Documents\\BrainTumour\\YorN\\archive\\brain_tumor_dataset\\val\n"
     ]
    }
   ],
   "source": [
    "for path in paths:\n",
    "    print(path)"
   ]
  },
  {
   "cell_type": "code",
   "execution_count": 22,
   "id": "519824dc",
   "metadata": {},
   "outputs": [],
   "source": [
    "val_path=paths[2]\n",
    "train_path=paths[1]"
   ]
  },
  {
   "cell_type": "code",
   "execution_count": 6,
   "id": "89b2df98",
   "metadata": {},
   "outputs": [],
   "source": [
    "datagen = ImageDataGenerator(rescale=1/255,\n",
    "                             rotation_range=20,\n",
    "                             horizontal_flip=True,\n",
    "                             height_shift_range=0.1,\n",
    "                             width_shift_range=0.1,\n",
    "                             shear_range=0.1,\n",
    "                             brightness_range=[0.3, 1.5]\n",
    "                            )"
   ]
  },
  {
   "cell_type": "code",
   "execution_count": 7,
   "id": "6ae0972e",
   "metadata": {},
   "outputs": [
    {
     "name": "stdout",
     "output_type": "stream",
     "text": [
      "Found 204 images belonging to 2 classes.\n",
      "Found 24 images belonging to 2 classes.\n"
     ]
    }
   ],
   "source": [
    "train_gen= datagen.flow_from_directory(train_path,\n",
    "                                       target_size=(224,224),\n",
    "                                       class_mode='binary'\n",
    "                                      )\n",
    "val_gen = datagen.flow_from_directory( val_path,\n",
    "                                       target_size=(224,224),\n",
    "                                       class_mode='binary'\n",
    "                                      )"
   ]
  },
  {
   "cell_type": "code",
   "execution_count": 8,
   "id": "d3b0c34b",
   "metadata": {},
   "outputs": [],
   "source": [
    "vgg_model=VGG16(weights='imagenet',input_shape=(224,224,3),include_top=False)\n",
    "model=keras.Sequential()\n",
    "for layer in vgg_model.layers:\n",
    "    model.add(layer)\n",
    "for layer in model.layers:\n",
    "    layer.trainable=False"
   ]
  },
  {
   "cell_type": "code",
   "execution_count": 9,
   "id": "3e505338",
   "metadata": {},
   "outputs": [
    {
     "name": "stdout",
     "output_type": "stream",
     "text": [
      "Model: \"sequential\"\n",
      "_________________________________________________________________\n",
      "Layer (type)                 Output Shape              Param #   \n",
      "=================================================================\n",
      "block1_conv1 (Conv2D)        (None, 224, 224, 64)      1792      \n",
      "_________________________________________________________________\n",
      "block1_conv2 (Conv2D)        (None, 224, 224, 64)      36928     \n",
      "_________________________________________________________________\n",
      "block1_pool (MaxPooling2D)   (None, 112, 112, 64)      0         \n",
      "_________________________________________________________________\n",
      "block2_conv1 (Conv2D)        (None, 112, 112, 128)     73856     \n",
      "_________________________________________________________________\n",
      "block2_conv2 (Conv2D)        (None, 112, 112, 128)     147584    \n",
      "_________________________________________________________________\n",
      "block2_pool (MaxPooling2D)   (None, 56, 56, 128)       0         \n",
      "_________________________________________________________________\n",
      "block3_conv1 (Conv2D)        (None, 56, 56, 256)       295168    \n",
      "_________________________________________________________________\n",
      "block3_conv2 (Conv2D)        (None, 56, 56, 256)       590080    \n",
      "_________________________________________________________________\n",
      "block3_conv3 (Conv2D)        (None, 56, 56, 256)       590080    \n",
      "_________________________________________________________________\n",
      "block3_pool (MaxPooling2D)   (None, 28, 28, 256)       0         \n",
      "_________________________________________________________________\n",
      "block4_conv1 (Conv2D)        (None, 28, 28, 512)       1180160   \n",
      "_________________________________________________________________\n",
      "block4_conv2 (Conv2D)        (None, 28, 28, 512)       2359808   \n",
      "_________________________________________________________________\n",
      "block4_conv3 (Conv2D)        (None, 28, 28, 512)       2359808   \n",
      "_________________________________________________________________\n",
      "block4_pool (MaxPooling2D)   (None, 14, 14, 512)       0         \n",
      "_________________________________________________________________\n",
      "block5_conv1 (Conv2D)        (None, 14, 14, 512)       2359808   \n",
      "_________________________________________________________________\n",
      "block5_conv2 (Conv2D)        (None, 14, 14, 512)       2359808   \n",
      "_________________________________________________________________\n",
      "block5_conv3 (Conv2D)        (None, 14, 14, 512)       2359808   \n",
      "_________________________________________________________________\n",
      "block5_pool (MaxPooling2D)   (None, 7, 7, 512)         0         \n",
      "_________________________________________________________________\n",
      "flatten (Flatten)            (None, 25088)             0         \n",
      "_________________________________________________________________\n",
      "dropout (Dropout)            (None, 25088)             0         \n",
      "_________________________________________________________________\n",
      "dense (Dense)                (None, 256)               6422784   \n",
      "_________________________________________________________________\n",
      "dense_1 (Dense)              (None, 1)                 257       \n",
      "=================================================================\n",
      "Total params: 21,137,729\n",
      "Trainable params: 6,423,041\n",
      "Non-trainable params: 14,714,688\n",
      "_________________________________________________________________\n"
     ]
    }
   ],
   "source": [
    "model.add(Flatten())\n",
    "model.add(Dropout(0.4))\n",
    "model.add(Dense(256,activation='relu'))\n",
    "model.add(Dense(1,activation='sigmoid'))\n",
    "model.summary()"
   ]
  },
  {
   "cell_type": "code",
   "execution_count": 10,
   "id": "9a077732",
   "metadata": {},
   "outputs": [],
   "source": [
    "checkpoint= ModelCheckpoint(\n",
    "    filepath='./',\n",
    "    save_weights_only=True,\n",
    "    monitor='val_accuracy',\n",
    "    mode='max',\n",
    "    save_best_only=True)"
   ]
  },
  {
   "cell_type": "code",
   "execution_count": 11,
   "id": "d5738739",
   "metadata": {},
   "outputs": [],
   "source": [
    "model.compile(loss='binary_crossentropy',\n",
    "              optimizer='adam',\n",
    "              metrics=['accuracy']\n",
    "             )"
   ]
  },
  {
   "cell_type": "markdown",
   "id": "a834a389",
   "metadata": {},
   "source": [
    "## Without implementing EarlyStopping"
   ]
  },
  {
   "cell_type": "code",
   "execution_count": 12,
   "id": "0c27b4cd",
   "metadata": {},
   "outputs": [
    {
     "name": "stdout",
     "output_type": "stream",
     "text": [
      "Epoch 1/50\n",
      "7/7 [==============================] - 21s 2s/step - loss: 1.8842 - accuracy: 0.6078 - val_loss: 0.3245 - val_accuracy: 0.8750\n",
      "Epoch 2/50\n",
      "7/7 [==============================] - 3s 454ms/step - loss: 0.6131 - accuracy: 0.7206 - val_loss: 0.4041 - val_accuracy: 0.7917\n",
      "Epoch 3/50\n",
      "7/7 [==============================] - 3s 467ms/step - loss: 0.3854 - accuracy: 0.8088 - val_loss: 0.4207 - val_accuracy: 0.7917\n",
      "Epoch 4/50\n",
      "7/7 [==============================] - 3s 449ms/step - loss: 0.3652 - accuracy: 0.8382 - val_loss: 0.3200 - val_accuracy: 0.7917\n",
      "Epoch 5/50\n",
      "7/7 [==============================] - 3s 445ms/step - loss: 0.3082 - accuracy: 0.8431 - val_loss: 0.3953 - val_accuracy: 0.7917\n",
      "Epoch 6/50\n",
      "7/7 [==============================] - 3s 450ms/step - loss: 0.3686 - accuracy: 0.8382 - val_loss: 0.3672 - val_accuracy: 0.8333\n",
      "Epoch 7/50\n",
      "7/7 [==============================] - 3s 460ms/step - loss: 0.2969 - accuracy: 0.8578 - val_loss: 0.3132 - val_accuracy: 0.7917\n",
      "Epoch 8/50\n",
      "7/7 [==============================] - 3s 457ms/step - loss: 0.2851 - accuracy: 0.9020 - val_loss: 0.2969 - val_accuracy: 0.8750\n",
      "Epoch 9/50\n",
      "7/7 [==============================] - 3s 436ms/step - loss: 0.3044 - accuracy: 0.8529 - val_loss: 0.3399 - val_accuracy: 0.7500\n",
      "Epoch 10/50\n",
      "7/7 [==============================] - 3s 450ms/step - loss: 0.2541 - accuracy: 0.8922 - val_loss: 0.4895 - val_accuracy: 0.8333\n",
      "Epoch 11/50\n",
      "7/7 [==============================] - 3s 452ms/step - loss: 0.2807 - accuracy: 0.8922 - val_loss: 0.2965 - val_accuracy: 0.9167\n",
      "Epoch 12/50\n",
      "7/7 [==============================] - 3s 471ms/step - loss: 0.2732 - accuracy: 0.8725 - val_loss: 0.4675 - val_accuracy: 0.7917\n",
      "Epoch 13/50\n",
      "7/7 [==============================] - 3s 449ms/step - loss: 0.2420 - accuracy: 0.9020 - val_loss: 0.4054 - val_accuracy: 0.7500\n",
      "Epoch 14/50\n",
      "7/7 [==============================] - 3s 453ms/step - loss: 0.1727 - accuracy: 0.9461 - val_loss: 0.3501 - val_accuracy: 0.7917\n",
      "Epoch 15/50\n",
      "7/7 [==============================] - 3s 450ms/step - loss: 0.1949 - accuracy: 0.9314 - val_loss: 0.3307 - val_accuracy: 0.8750\n",
      "Epoch 16/50\n",
      "7/7 [==============================] - 3s 458ms/step - loss: 0.1842 - accuracy: 0.9363 - val_loss: 0.3229 - val_accuracy: 0.7500\n",
      "Epoch 17/50\n",
      "7/7 [==============================] - 3s 531ms/step - loss: 0.1851 - accuracy: 0.9412 - val_loss: 0.3051 - val_accuracy: 0.9167\n",
      "Epoch 18/50\n",
      "7/7 [==============================] - 3s 461ms/step - loss: 0.1808 - accuracy: 0.9216 - val_loss: 0.1912 - val_accuracy: 0.8750\n",
      "Epoch 19/50\n",
      "7/7 [==============================] - 3s 456ms/step - loss: 0.1251 - accuracy: 0.9608 - val_loss: 0.3880 - val_accuracy: 0.8333\n",
      "Epoch 20/50\n",
      "7/7 [==============================] - 3s 456ms/step - loss: 0.1684 - accuracy: 0.9265 - val_loss: 0.3468 - val_accuracy: 0.8750\n",
      "Epoch 21/50\n",
      "7/7 [==============================] - 3s 471ms/step - loss: 0.2594 - accuracy: 0.8775 - val_loss: 0.5626 - val_accuracy: 0.8333\n",
      "Epoch 22/50\n",
      "7/7 [==============================] - 4s 496ms/step - loss: 0.1635 - accuracy: 0.9461 - val_loss: 0.2580 - val_accuracy: 0.8750\n",
      "Epoch 23/50\n",
      "7/7 [==============================] - 4s 491ms/step - loss: 0.1729 - accuracy: 0.9265 - val_loss: 0.3358 - val_accuracy: 0.7917\n",
      "Epoch 24/50\n",
      "7/7 [==============================] - 3s 465ms/step - loss: 0.1570 - accuracy: 0.9461 - val_loss: 0.4532 - val_accuracy: 0.7500\n",
      "Epoch 25/50\n",
      "7/7 [==============================] - 3s 536ms/step - loss: 0.1725 - accuracy: 0.9363 - val_loss: 0.3805 - val_accuracy: 0.7917\n",
      "Epoch 26/50\n",
      "7/7 [==============================] - 4s 549ms/step - loss: 0.1469 - accuracy: 0.9363 - val_loss: 0.3360 - val_accuracy: 0.8333\n",
      "Epoch 27/50\n",
      "7/7 [==============================] - 3s 477ms/step - loss: 0.1641 - accuracy: 0.9510 - val_loss: 0.3223 - val_accuracy: 0.8333\n",
      "Epoch 28/50\n",
      "7/7 [==============================] - 4s 500ms/step - loss: 0.0825 - accuracy: 0.9804 - val_loss: 0.5353 - val_accuracy: 0.7500\n",
      "Epoch 29/50\n",
      "7/7 [==============================] - 3s 479ms/step - loss: 0.1076 - accuracy: 0.9461 - val_loss: 0.5306 - val_accuracy: 0.7500\n",
      "Epoch 30/50\n",
      "7/7 [==============================] - 3s 477ms/step - loss: 0.1343 - accuracy: 0.9412 - val_loss: 0.7956 - val_accuracy: 0.7500\n",
      "Epoch 31/50\n",
      "7/7 [==============================] - 3s 470ms/step - loss: 0.1967 - accuracy: 0.9069 - val_loss: 0.3308 - val_accuracy: 0.8750\n",
      "Epoch 32/50\n",
      "7/7 [==============================] - 4s 521ms/step - loss: 0.1556 - accuracy: 0.9412 - val_loss: 0.3821 - val_accuracy: 0.7500\n",
      "Epoch 33/50\n",
      "7/7 [==============================] - 4s 578ms/step - loss: 0.1632 - accuracy: 0.9069 - val_loss: 0.4174 - val_accuracy: 0.8333\n",
      "Epoch 34/50\n",
      "7/7 [==============================] - 3s 470ms/step - loss: 0.1321 - accuracy: 0.9412 - val_loss: 0.5461 - val_accuracy: 0.8750\n",
      "Epoch 35/50\n",
      "7/7 [==============================] - 3s 444ms/step - loss: 0.1493 - accuracy: 0.9314 - val_loss: 0.4057 - val_accuracy: 0.8333\n",
      "Epoch 36/50\n",
      "7/7 [==============================] - 3s 464ms/step - loss: 0.1938 - accuracy: 0.9069 - val_loss: 0.4111 - val_accuracy: 0.8750\n",
      "Epoch 37/50\n",
      "7/7 [==============================] - 4s 589ms/step - loss: 0.1433 - accuracy: 0.9314 - val_loss: 0.3715 - val_accuracy: 0.8333\n",
      "Epoch 38/50\n",
      "7/7 [==============================] - 4s 548ms/step - loss: 0.1861 - accuracy: 0.9118 - val_loss: 0.4097 - val_accuracy: 0.8333\n",
      "Epoch 39/50\n",
      "7/7 [==============================] - 4s 529ms/step - loss: 0.2274 - accuracy: 0.8971 - val_loss: 0.4065 - val_accuracy: 0.9167\n",
      "Epoch 40/50\n",
      "7/7 [==============================] - 4s 513ms/step - loss: 0.1524 - accuracy: 0.9216 - val_loss: 1.0180 - val_accuracy: 0.7083\n",
      "Epoch 41/50\n",
      "7/7 [==============================] - 4s 481ms/step - loss: 0.2155 - accuracy: 0.9216 - val_loss: 0.1980 - val_accuracy: 0.9167\n",
      "Epoch 42/50\n",
      "7/7 [==============================] - 4s 502ms/step - loss: 0.0687 - accuracy: 0.9755 - val_loss: 0.2921 - val_accuracy: 0.8333\n",
      "Epoch 43/50\n",
      "7/7 [==============================] - 4s 488ms/step - loss: 0.0951 - accuracy: 0.9657 - val_loss: 0.2128 - val_accuracy: 0.9167\n",
      "Epoch 44/50\n",
      "7/7 [==============================] - 4s 567ms/step - loss: 0.0724 - accuracy: 0.9804 - val_loss: 0.4650 - val_accuracy: 0.7917\n",
      "Epoch 45/50\n",
      "7/7 [==============================] - 3s 483ms/step - loss: 0.0887 - accuracy: 0.9559 - val_loss: 0.3821 - val_accuracy: 0.8333\n",
      "Epoch 46/50\n",
      "7/7 [==============================] - 4s 497ms/step - loss: 0.0969 - accuracy: 0.9706 - val_loss: 0.2308 - val_accuracy: 0.9167\n",
      "Epoch 47/50\n",
      "7/7 [==============================] - 4s 489ms/step - loss: 0.0996 - accuracy: 0.9608 - val_loss: 0.4265 - val_accuracy: 0.8750\n",
      "Epoch 48/50\n",
      "7/7 [==============================] - 4s 510ms/step - loss: 0.1136 - accuracy: 0.9461 - val_loss: 0.3411 - val_accuracy: 0.8750\n",
      "Epoch 49/50\n",
      "7/7 [==============================] - 4s 516ms/step - loss: 0.0925 - accuracy: 0.9608 - val_loss: 0.3509 - val_accuracy: 0.8333\n",
      "Epoch 50/50\n",
      "7/7 [==============================] - 4s 568ms/step - loss: 0.0783 - accuracy: 0.9706 - val_loss: 0.3717 - val_accuracy: 0.9583\n"
     ]
    }
   ],
   "source": [
    "history=model.fit(train_gen,validation_data=val_gen,epochs=50,callbacks=[checkpoint])"
   ]
  },
  {
   "cell_type": "code",
   "execution_count": 13,
   "id": "b4cb6031",
   "metadata": {},
   "outputs": [
    {
     "data": {
      "text/plain": [
       "<matplotlib.legend.Legend at 0x28ab4110ca0>"
      ]
     },
     "execution_count": 13,
     "metadata": {},
     "output_type": "execute_result"
    },
    {
     "data": {
      "image/png": "[encoded data removed]",
      "text/plain": [
       "<Figure size 432x288 with 1 Axes>"
      ]
     },
     "metadata": {
      "needs_background": "light"
     },
     "output_type": "display_data"
    }
   ],
   "source": [
    "plt.plot(history.history['loss'],label='train loss')\n",
    "plt.plot(history.history['val_loss'],label='validation loss')\n",
    "plt.legend()"
   ]
  },
  {
   "cell_type": "code",
   "execution_count": 14,
   "id": "215d0736",
   "metadata": {},
   "outputs": [
    {
     "data": {
      "text/plain": [
       "<matplotlib.legend.Legend at 0x28ab41e4d00>"
      ]
     },
     "execution_count": 14,
     "metadata": {},
     "output_type": "execute_result"
    },
    {
     "data": {
      "image/png": "[encoded data removed]",
      "text/plain": [
       "<Figure size 432x288 with 1 Axes>"
      ]
     },
     "metadata": {
      "needs_background": "light"
     },
     "output_type": "display_data"
    }
   ],
   "source": [
    "plt.plot(history.history['accuracy'],label='train accuracy')\n",
    "plt.plot(history.history['val_accuracy'],label='validation accuracy')\n",
    "plt.legend()"
   ]
  },
  {
   "cell_type": "code",
   "execution_count": 20,
   "id": "7c522e62",
   "metadata": {},
   "outputs": [],
   "source": [
    "model.save('final_model.h5')"
   ]
  },
  {
   "cell_type": "code",
   "execution_count": 21,
   "id": "3e2fb36d",
   "metadata": {},
   "outputs": [],
   "source": [
    "new_model = tf.keras.models.load_model('final_model.h5')"
   ]
  },
  {
   "cell_type": "code",
   "execution_count": 55,
   "id": "5482a452",
   "metadata": {},
   "outputs": [],
   "source": [
    "def classify(img_path):\n",
    "    img = image.load_img(img_path, target_size=(224, 224))\n",
    "    img_array = image.img_to_array(img)\n",
    "    img_batch = np.expand_dims(img_array, axis=0)\n",
    "    img_preprocessed = preprocess_input(img_batch)\n",
    "    model = tf.keras.models.load_model('final_model.h5')\n",
    "    prediction = model.predict(img_preprocessed)\n",
    "    print(prediction)"
   ]
  },
  {
   "cell_type": "code",
   "execution_count": 74,
   "id": "322883cc",
   "metadata": {},
   "outputs": [
    {
     "name": "stdout",
     "output_type": "stream",
     "text": [
      "Found 25 images belonging to 2 classes.\n"
     ]
    }
   ],
   "source": [
    "test_path=paths[0]\n",
    "test_gen = datagen.flow_from_directory( test_path,\n",
    "                                       target_size=(224,224),\n",
    "                                       class_mode='binary'\n",
    "                                      )"
   ]
  },
  {
   "cell_type": "code",
   "execution_count": 75,
   "id": "afa913ab",
   "metadata": {},
   "outputs": [
    {
     "name": "stdout",
     "output_type": "stream",
     "text": [
      "1/1 [==============================] - 1s 587ms/step - loss: 0.4657 - accuracy: 0.8800\n"
     ]
    },
    {
     "data": {
      "text/plain": [
       "[0.46572887897491455, 0.8799999952316284]"
      ]
     },
     "execution_count": 75,
     "metadata": {},
     "output_type": "execute_result"
    }
   ],
   "source": [
    "new_model.evaluate(test_gen)"
   ]
  },
  {
   "cell_type": "code",
   "execution_count": null,
   "id": "eceb49a5",
   "metadata": {},
   "outputs": [],
   "source": []
  }
 ],
 "metadata": {
  "kernelspec": {
   "display_name": "Python 3 (ipykernel)",
   "language": "python",
   "name": "python3"
  },
  "language_info": {
   "codemirror_mode": {
    "name": "ipython",
    "version": 3
   },
   "file_extension": ".py",
   "mimetype": "text/x-python",
   "name": "python",
   "nbconvert_exporter": "python",
   "pygments_lexer": "ipython3",
   "version": "3.9.7"
  }
 },
 "nbformat": 4,
 "nbformat_minor": 5
}
