{
 "cells": [
  {
   "cell_type": "code",
   "execution_count": 45,
   "id": "60761b1a",
   "metadata": {},
   "outputs": [],
   "source": [
    "import ipywidgets as widgets\n",
    "import io\n",
    "import os\n",
    "from PIL import Image\n",
    "import cv2\n",
    "import numpy as np\n",
    "from tensorflow.keras.models import load_model\n",
    "from IPython.display import display,clear_output\n",
    "os.chdir(r'C:\\Users\\vasan\\Desktop\\Brain Tumour Project\\Classification\\archive')"
   ]
  },
  {
   "cell_type": "code",
   "execution_count": 49,
   "id": "db6c83ca",
   "metadata": {},
   "outputs": [],
   "source": [
    "model=  load_model(\"effnet.h5\")\n",
    "def img_pred(upload):\n",
    "    for name, file_info in uploader.value.items():\n",
    "        img = Image.open(io.BytesIO(file_info['content']))\n",
    "    opencvImage = cv2.cvtColor(np.array(img), cv2.COLOR_RGB2BGR)\n",
    "    img = cv2.resize(opencvImage,(150,150))\n",
    "    img = img.reshape(1,150,150,3)\n",
    "    p = model.predict(img)\n",
    "    p = np.argmax(p,axis=1)[0]\n",
    "    if p==0:\n",
    "        print('Glioma Tumor')\n",
    "    elif p==1:\n",
    "        print('No Tumor')\n",
    "    elif p==2:\n",
    "        print('Meningioma Tumor')\n",
    "    else:\n",
    "        print('Pituitary Tumor')"
   ]
  },
  {
   "cell_type": "code",
   "execution_count": 55,
   "id": "1608272d",
   "metadata": {},
   "outputs": [
    {
     "data": {
      "application/vnd.jupyter.widget-view+json": {
       "model_id": "d7a6339098a645769f7936bfa77e21b1",
       "version_major": 2,
       "version_minor": 0
      },
      "text/plain": [
       "FileUpload(value={}, description='Upload')"
      ]
     },
     "metadata": {},
     "output_type": "display_data"
    }
   ],
   "source": [
    "uploader = widgets.FileUpload()\n",
    "display(uploader)"
   ]
  },
  {
   "cell_type": "code",
   "execution_count": 54,
   "id": "62e6108e",
   "metadata": {},
   "outputs": [
    {
     "data": {
      "application/vnd.jupyter.widget-view+json": {
       "model_id": "12f9a1233fcf49bba3b8112e83b61de4",
       "version_major": 2,
       "version_minor": 0
      },
      "text/plain": [
       "VBox(children=(Button(description='Predict', style=ButtonStyle()), Output()))"
      ]
     },
     "metadata": {},
     "output_type": "display_data"
    }
   ],
   "source": [
    "button = widgets.Button(description='Predict')\n",
    "out = widgets.Output()\n",
    "def on_button_clicked(_):\n",
    "    with out:\n",
    "        clear_output()\n",
    "        try:\n",
    "            img_pred(uploader)\n",
    "            \n",
    "        except:\n",
    "            print('No Image Uploaded/Invalid Image File')\n",
    "button.on_click(on_button_clicked)\n",
    "widgets.VBox([button,out])"
   ]
  },
  {
   "cell_type": "code",
   "execution_count": null,
   "id": "192114e1",
   "metadata": {},
   "outputs": [],
   "source": []
  }
 ],
 "metadata": {
  "kernelspec": {
   "display_name": "Python 3 (ipykernel)",
   "language": "python",
   "name": "python3"
  },
  "language_info": {
   "codemirror_mode": {
    "name": "ipython",
    "version": 3
   },
   "file_extension": ".py",
   "mimetype": "text/x-python",
   "name": "python",
   "nbconvert_exporter": "python",
   "pygments_lexer": "ipython3",
   "version": "3.9.7"
  }
 },
 "nbformat": 4,
 "nbformat_minor": 5
}
